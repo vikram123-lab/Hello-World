{
 "cells": [
  {
   "cell_type": "code",
   "execution_count": 1,
   "metadata": {},
   "outputs": [
    {
     "name": "stdout",
     "output_type": "stream",
     "text": [
      "enter the number:rahul\n",
      "luhar\n"
     ]
    }
   ],
   "source": [
    "s = input(\"enter the string:\")\n",
    "print(s[::-1])"
   ]
  },
  {
   "cell_type": "code",
   "execution_count": 17,
   "metadata": {},
   "outputs": [
    {
     "name": "stdout",
     "output_type": "stream",
     "text": [
      "enter the string:rahul is a good boy\n",
      "yob doog a si luhar\n"
     ]
    }
   ],
   "source": [
    "s = input(\"enter the string:\")\n",
    "i = -1\n",
    "l = []\n",
    "while i>=-len(s):\n",
    "    l.append(s[i])\n",
    "    i = i - 1\n",
    "s1 = \"\".join(l)\n",
    "print(s1)"
   ]
  },
  {
   "cell_type": "code",
   "execution_count": 20,
   "metadata": {},
   "outputs": [
    {
     "name": "stdout",
     "output_type": "stream",
     "text": [
      "enter the sentence:rahul is a good boy\n",
      "luhar si a doog yob\n"
     ]
    }
   ],
   "source": [
    "s = input(\"enter the sentence:\")\n",
    "l = s.split()\n",
    "l1 = []\n",
    "for i in l:\n",
    "    l1.append(i[::-1])\n",
    "    \n",
    "print(\" \".join(l1))\n",
    "    \n"
   ]
  },
  {
   "cell_type": "code",
   "execution_count": 27,
   "metadata": {},
   "outputs": [
    {
     "name": "stdout",
     "output_type": "stream",
     "text": [
      "markiv\n"
     ]
    }
   ],
   "source": [
    "s = \"vikram\"\n",
    "out= \"\"\n",
    "i = len(s)-1\n",
    "while i>=0:\n",
    "    out = out + s[i]\n",
    "    i = i - 1\n",
    "print(out) "
   ]
  },
  {
   "cell_type": "code",
   "execution_count": 29,
   "metadata": {},
   "outputs": [
    {
     "name": "stdout",
     "output_type": "stream",
     "text": [
      "0\n"
     ]
    }
   ],
   "source": [
    "l = [1,2,3]\n",
    "print(l.index(1))"
   ]
  },
  {
   "cell_type": "code",
   "execution_count": 33,
   "metadata": {},
   "outputs": [
    {
     "name": "stdout",
     "output_type": "stream",
     "text": [
      "rahul si a doog boy\n"
     ]
    }
   ],
   "source": [
    "s = \"rahul is a good boy\"\n",
    "l = s.split()\n",
    "l1 = []\n",
    "for i in l:\n",
    "    if l.index(i)%2==0:\n",
    "        l1.append(i)\n",
    "    else:\n",
    "        l1.append(i[::-1])\n",
    "print(\" \".join(l1))"
   ]
  },
  {
   "cell_type": "code",
   "execution_count": 40,
   "metadata": {},
   "outputs": [
    {
     "name": "stdout",
     "output_type": "stream",
     "text": [
      "even position: draotae\n",
      "oddd position: ugsfwr\n"
     ]
    }
   ],
   "source": [
    "s = \"durgasoftware\"\n",
    "l1 = []\n",
    "l2 = []\n",
    "i = 0\n",
    "while i<len(s):\n",
    "    if i%2 == 0:\n",
    "        l1.append(s[i])\n",
    "    else:\n",
    "        l2.append(s[i])\n",
    "    i+=1\n",
    "print(\"even position:\",\"\".join(l1))\n",
    "print(\"oddd position:\",\"\".join(l2))"
   ]
  },
  {
   "cell_type": "code",
   "execution_count": 42,
   "metadata": {},
   "outputs": [
    {
     "name": "stdout",
     "output_type": "stream",
     "text": [
      "enter the string:rahul\n",
      "characters present at even index\n",
      "r\n",
      "h\n",
      "l\n",
      "characters present at odd index\n",
      "a\n",
      "u\n"
     ]
    }
   ],
   "source": [
    "s = input(\"enter the string:\")\n",
    "print(\"characters present at even index\")\n",
    "i = 0 \n",
    "while i<len(s):\n",
    "    print(s[i])\n",
    "    i+=2\n",
    "print(\"characters present at odd index\")\n",
    "i = 1\n",
    "while i<len(s):\n",
    "    print(s[i])\n",
    "    i+=2"
   ]
  },
  {
   "cell_type": "code",
   "execution_count": 53,
   "metadata": {},
   "outputs": [
    {
     "name": "stdout",
     "output_type": "stream",
     "text": [
      "BAD134\n"
     ]
    }
   ],
   "source": [
    "s =\"B4A1D3\"\n",
    "l = []\n",
    "l1 = []\n",
    "for i in s:\n",
    "    if i.isalpha():\n",
    "        l.append(i)\n",
    "    else:\n",
    "        l1.append(i)\n",
    "\n",
    "l1.sort()\n",
    "s1 = \"\".join(l) \n",
    "s2 = \"\".join(l1)\n",
    "print(s1+s2)"
   ]
  },
  {
   "cell_type": "code",
   "execution_count": 69,
   "metadata": {},
   "outputs": [
    {
     "name": "stdout",
     "output_type": "stream",
     "text": [
      "ABD134\n"
     ]
    }
   ],
   "source": [
    "s = \"B4A1D3\"\n",
    "l = []\n",
    "l1 = []\n",
    "i=0\n",
    "while i<len(s):\n",
    "    if s[i].isalpha():\n",
    "        l.append(s[i])\n",
    "    else:\n",
    "        l1.append(s[i])\n",
    "    i+=1\n",
    "s1 = \"\".join(sorted(l))\n",
    "s2 = \"\".join(sorted(l1))\n",
    "print(s1+s2)"
   ]
  },
  {
   "cell_type": "code",
   "execution_count": 71,
   "metadata": {},
   "outputs": [
    {
     "name": "stdout",
     "output_type": "stream",
     "text": [
      "enter the string:a6f4h1z9\n",
      "aaaaaaffffhzzzzzzzzz\n"
     ]
    }
   ],
   "source": [
    "s = input(\"enter the string:\")\n",
    "o = \"\"\n",
    "for i in s:\n",
    "    if i.isalpha():\n",
    "        x = i\n",
    "    else:\n",
    "        o = o + x*int(i)\n",
    "print(o)\n",
    "        "
   ]
  },
  {
   "cell_type": "code",
   "execution_count": 76,
   "metadata": {},
   "outputs": [
    {
     "name": "stdout",
     "output_type": "stream",
     "text": [
      "enter the string:aassddssaasdd\n",
      "asd\n"
     ]
    }
   ],
   "source": [
    "s = input(\"enter the string:\")\n",
    "l = []\n",
    "for i in s:\n",
    "    if i not in l:\n",
    "        l.append(i)\n",
    "s1 = \"\".join(l)\n",
    "print(s1)"
   ]
  },
  {
   "cell_type": "code",
   "execution_count": 87,
   "metadata": {},
   "outputs": [
    {
     "name": "stdout",
     "output_type": "stream",
     "text": [
      "enter the string:aassdd\n",
      "ads\n"
     ]
    }
   ],
   "source": [
    "s = input(\"enter the string:\")\n",
    "l = set(s)\n",
    "s1 = \"\".join(l)\n",
    "print(s1)"
   ]
  },
  {
   "cell_type": "code",
   "execution_count": 89,
   "metadata": {},
   "outputs": [
    {
     "name": "stdout",
     "output_type": "stream",
     "text": [
      "abd\n"
     ]
    }
   ],
   "source": [
    "s = \"aaabdbdbdbbbbbdd\"\n",
    "o = \"\"\n",
    "for ch in s:\n",
    "    if ch not in o:\n",
    "        o = o + ch\n",
    "print(o)"
   ]
  },
  {
   "cell_type": "code",
   "execution_count": 93,
   "metadata": {},
   "outputs": [
    {
     "name": "stdout",
     "output_type": "stream",
     "text": [
      "9\n",
      "9\n",
      "7\n",
      "6\n",
      "6\n",
      "8\n",
      "8\n",
      "9\n",
      "7\n"
     ]
    }
   ],
   "source": [
    "from random import *\n",
    "\n",
    "for i in range(9):\n",
    "    d1 = randint(6,9)\n",
    "    print(d1)"
   ]
  },
  {
   "cell_type": "code",
   "execution_count": 95,
   "metadata": {},
   "outputs": [
    {
     "name": "stdout",
     "output_type": "stream",
     "text": [
      "40\n",
      "30\n"
     ]
    },
    {
     "ename": "AttributeError",
     "evalue": "'B' object has no attribute 'c'",
     "output_type": "error",
     "traceback": [
      "\u001b[1;31m---------------------------------------------------------------------------\u001b[0m",
      "\u001b[1;31mAttributeError\u001b[0m                            Traceback (most recent call last)",
      "\u001b[1;32m<ipython-input-95-8e1e8a7d3489>\u001b[0m in \u001b[0;36m<module>\u001b[1;34m\u001b[0m\n\u001b[0;32m     12\u001b[0m \u001b[0mprint\u001b[0m\u001b[1;33m(\u001b[0m\u001b[0mb\u001b[0m\u001b[1;33m.\u001b[0m\u001b[0ma\u001b[0m\u001b[1;33m)\u001b[0m\u001b[1;33m\u001b[0m\u001b[1;33m\u001b[0m\u001b[0m\n\u001b[0;32m     13\u001b[0m \u001b[0mprint\u001b[0m\u001b[1;33m(\u001b[0m\u001b[0mb\u001b[0m\u001b[1;33m.\u001b[0m\u001b[0mb\u001b[0m\u001b[1;33m)\u001b[0m\u001b[1;33m\u001b[0m\u001b[1;33m\u001b[0m\u001b[0m\n\u001b[1;32m---> 14\u001b[1;33m \u001b[0mprint\u001b[0m\u001b[1;33m(\u001b[0m\u001b[0mb\u001b[0m\u001b[1;33m.\u001b[0m\u001b[0mc\u001b[0m\u001b[1;33m)\u001b[0m\u001b[1;33m\u001b[0m\u001b[1;33m\u001b[0m\u001b[0m\n\u001b[0m",
      "\u001b[1;31mAttributeError\u001b[0m: 'B' object has no attribute 'c'"
     ]
    }
   ],
   "source": [
    "class A:\n",
    "    def __init__(self):\n",
    "        self.b = 10\n",
    "        self.c = 20\n",
    "        \n",
    "class B(A):\n",
    "    def __init__(self):\n",
    "        self.a = 40\n",
    "        self.b = 30\n",
    "        \n",
    "b = B()\n",
    "print(b.a)\n",
    "print(b.b)\n",
    "print(b.c)"
   ]
  },
  {
   "cell_type": "code",
   "execution_count": 96,
   "metadata": {},
   "outputs": [
    {
     "ename": "TypeError",
     "evalue": "catching classes that do not inherit from BaseException is not allowed",
     "output_type": "error",
     "traceback": [
      "\u001b[1;31m---------------------------------------------------------------------------\u001b[0m",
      "\u001b[1;31mTypeError\u001b[0m                                 Traceback (most recent call last)",
      "\u001b[1;32m<ipython-input-96-c15ddafc4964>\u001b[0m in \u001b[0;36m<module>\u001b[1;34m\u001b[0m\n\u001b[0;32m      2\u001b[0m     \u001b[1;32mif\u001b[0m \u001b[1;34m'1'\u001b[0m \u001b[1;33m!=\u001b[0m \u001b[1;36m1\u001b[0m\u001b[1;33m:\u001b[0m\u001b[1;33m\u001b[0m\u001b[1;33m\u001b[0m\u001b[0m\n\u001b[1;32m----> 3\u001b[1;33m         \u001b[1;32mraise\u001b[0m \u001b[1;34m\"someError\"\u001b[0m\u001b[1;33m\u001b[0m\u001b[1;33m\u001b[0m\u001b[0m\n\u001b[0m\u001b[0;32m      4\u001b[0m     \u001b[1;32melse\u001b[0m\u001b[1;33m:\u001b[0m\u001b[1;33m\u001b[0m\u001b[1;33m\u001b[0m\u001b[0m\n",
      "\u001b[1;31mTypeError\u001b[0m: exceptions must derive from BaseException",
      "\nDuring handling of the above exception, another exception occurred:\n",
      "\u001b[1;31mTypeError\u001b[0m                                 Traceback (most recent call last)",
      "\u001b[1;32m<ipython-input-96-c15ddafc4964>\u001b[0m in \u001b[0;36m<module>\u001b[1;34m\u001b[0m\n\u001b[0;32m      4\u001b[0m     \u001b[1;32melse\u001b[0m\u001b[1;33m:\u001b[0m\u001b[1;33m\u001b[0m\u001b[1;33m\u001b[0m\u001b[0m\n\u001b[0;32m      5\u001b[0m         \u001b[0mprint\u001b[0m\u001b[1;33m(\u001b[0m\u001b[1;34m\"!1\"\u001b[0m\u001b[1;33m)\u001b[0m\u001b[1;33m\u001b[0m\u001b[1;33m\u001b[0m\u001b[0m\n\u001b[1;32m----> 6\u001b[1;33m \u001b[1;32mexcept\u001b[0m \u001b[1;34m\"someError\"\u001b[0m\u001b[1;33m:\u001b[0m\u001b[1;33m\u001b[0m\u001b[1;33m\u001b[0m\u001b[0m\n\u001b[0m\u001b[0;32m      7\u001b[0m     \u001b[0mprint\u001b[0m \u001b[1;33m(\u001b[0m\u001b[1;34m\"1\"\u001b[0m\u001b[1;33m)\u001b[0m\u001b[1;33m\u001b[0m\u001b[1;33m\u001b[0m\u001b[0m\n",
      "\u001b[1;31mTypeError\u001b[0m: catching classes that do not inherit from BaseException is not allowed"
     ]
    }
   ],
   "source": [
    "try:\n",
    "    if '1' != 1:\n",
    "        raise \"someError\"\n",
    "    else:\n",
    "        print(\"!1\")\n",
    "except \"someError\":\n",
    "    print (\"1\")"
   ]
  },
  {
   "cell_type": "code",
   "execution_count": 100,
   "metadata": {},
   "outputs": [
    {
     "ename": "ValueError",
     "evalue": "must have exactly one of create/read/write/append mode",
     "output_type": "error",
     "traceback": [
      "\u001b[1;31m---------------------------------------------------------------------------\u001b[0m",
      "\u001b[1;31mValueError\u001b[0m                                Traceback (most recent call last)",
      "\u001b[1;32m<ipython-input-100-62db4c7d5838>\u001b[0m in \u001b[0;36m<module>\u001b[1;34m\u001b[0m\n\u001b[1;32m----> 1\u001b[1;33m \u001b[0mfo\u001b[0m \u001b[1;33m=\u001b[0m \u001b[0mopen\u001b[0m\u001b[1;33m(\u001b[0m\u001b[1;34m\"temp.txt\"\u001b[0m\u001b[1;33m,\u001b[0m \u001b[1;34m\"rw+\"\u001b[0m\u001b[1;33m)\u001b[0m\u001b[1;33m\u001b[0m\u001b[1;33m\u001b[0m\u001b[0m\n\u001b[0m\u001b[0;32m      2\u001b[0m \u001b[0mprint\u001b[0m \u001b[1;33m(\u001b[0m\u001b[1;34m\"FileName: \"\u001b[0m\u001b[1;33m,\u001b[0m \u001b[0mfo\u001b[0m\u001b[1;33m.\u001b[0m\u001b[0mname\u001b[0m\u001b[1;33m)\u001b[0m\u001b[1;33m\u001b[0m\u001b[1;33m\u001b[0m\u001b[0m\n\u001b[0;32m      3\u001b[0m \u001b[1;33m\u001b[0m\u001b[0m\n\u001b[0;32m      4\u001b[0m \u001b[1;31m# Assuming file has following 3 lines\u001b[0m\u001b[1;33m\u001b[0m\u001b[1;33m\u001b[0m\u001b[1;33m\u001b[0m\u001b[0m\n\u001b[0;32m      5\u001b[0m \u001b[1;31m# First line\u001b[0m\u001b[1;33m\u001b[0m\u001b[1;33m\u001b[0m\u001b[1;33m\u001b[0m\u001b[0m\n",
      "\u001b[1;31mValueError\u001b[0m: must have exactly one of create/read/write/append mode"
     ]
    }
   ],
   "source": [
    "fo = open(\"temp.txt\", \"rw+\")\n",
    "print (\"FileName: \", fo.name)\n",
    "\n",
    "# Assuming file has following 3 lines\n",
    "# First line\n",
    "# Second line\n",
    "# Third line\n",
    "\n",
    "for index in range(3):\n",
    "    line = fo.next()\n",
    "    print (\"iterator %d - %s\" % (index, line))\n",
    "\n",
    "# Close opend file\n",
    "fo.close()"
   ]
  },
  {
   "cell_type": "code",
   "execution_count": 101,
   "metadata": {},
   "outputs": [
    {
     "ename": "KeyError",
     "evalue": "'freq'",
     "output_type": "error",
     "traceback": [
      "\u001b[1;31m---------------------------------------------------------------------------\u001b[0m",
      "\u001b[1;31mKeyError\u001b[0m                                  Traceback (most recent call last)",
      "\u001b[1;32m<ipython-input-101-0dd84b9e9a38>\u001b[0m in \u001b[0;36m<module>\u001b[1;34m\u001b[0m\n\u001b[0;32m      1\u001b[0m \u001b[0md\u001b[0m \u001b[1;33m=\u001b[0m \u001b[1;33m{\u001b[0m\u001b[1;33m}\u001b[0m\u001b[1;33m\u001b[0m\u001b[1;33m\u001b[0m\u001b[0m\n\u001b[1;32m----> 2\u001b[1;33m \u001b[0md\u001b[0m\u001b[1;33m[\u001b[0m\u001b[1;34m'freq'\u001b[0m\u001b[1;33m]\u001b[0m\u001b[1;33m=\u001b[0m\u001b[0md\u001b[0m\u001b[1;33m[\u001b[0m\u001b[1;34m'freq'\u001b[0m\u001b[1;33m]\u001b[0m\u001b[1;33m+\u001b[0m\u001b[1;36m1\u001b[0m\u001b[1;33m\u001b[0m\u001b[1;33m\u001b[0m\u001b[0m\n\u001b[0m\u001b[0;32m      3\u001b[0m \u001b[0mprint\u001b[0m\u001b[1;33m(\u001b[0m\u001b[0md\u001b[0m\u001b[1;33m)\u001b[0m\u001b[1;33m\u001b[0m\u001b[1;33m\u001b[0m\u001b[0m\n",
      "\u001b[1;31mKeyError\u001b[0m: 'freq'"
     ]
    }
   ],
   "source": [
    "d = {}\n",
    "d['freq']=d['freq']+1 \n",
    "print(d)"
   ]
  },
  {
   "cell_type": "code",
   "execution_count": 105,
   "metadata": {},
   "outputs": [
    {
     "name": "stdout",
     "output_type": "stream",
     "text": [
      "name of the movie: a\n",
      "name of the Hero: s\n",
      "name of the Heroine: d\n",
      "name of the rating: 30\n"
     ]
    }
   ],
   "source": [
    "class Movie:\n",
    "    def vd(self,name,hero,heroine,rating):\n",
    "        self.name=name\n",
    "        self.hero=hero\n",
    "        self.heroine=heroine\n",
    "        self.rating=rating\n",
    "    def info(self):\n",
    "        print(\"name of the movie:\",self.name)\n",
    "        print(\"name of the Hero:\",self.hero)\n",
    "        print(\"name of the Heroine:\",self.heroine)\n",
    "        print(\"name of the rating:\",self.rating)\n",
    "        \n",
    "m = Movie()\n",
    "m.vd(\"a\",\"s\",\"d\",\"30\")\n",
    "m.info()"
   ]
  },
  {
   "cell_type": "code",
   "execution_count": null,
   "metadata": {},
   "outputs": [],
   "source": [
    "class Movie:\n",
    "    def info(self):\n",
    "        print(\"name of the movie:\",self.name)\n",
    "        print(\"name of the Hero:\",self.hero)\n",
    "        print(\"name of the Heroine:\",self.heroine)\n",
    "        print(\"name of the rating:\",self.rating)\n",
    "\n",
    "m1 = Movie()\n",
    "m1.name='D'\n",
    "m1.hero = 'H'\n",
    "m1.heroine='He'\n",
    "m1.rating = 5\n",
    "m1.info()\n",
    "   "
   ]
  },
  {
   "cell_type": "code",
   "execution_count": 117,
   "metadata": {},
   "outputs": [
    {
     "name": "stdout",
     "output_type": "stream",
     "text": [
      "{'name': 'k', 'hero': 'p', 'heroine': 'g', 'rating': 7}\n",
      "{'name': 'S', 'hero': 'V', 'heroine': 'D', 'rating': 9}\n"
     ]
    }
   ],
   "source": [
    " class Movie:\n",
    "    def __init__(self,name,hero,heroine,rate):\n",
    "        self.name=name\n",
    "        self.hero=hero\n",
    "        self.heroine=heroine\n",
    "        self.rating=rate\n",
    "        \n",
    "m = Movie(\"k\",\"p\",\"g\",7)\n",
    "m1 = Movie(\"S\",\"V\",\"D\",9)\n",
    "print(m.__dict__)\n",
    "print(m1.__dict__)"
   ]
  },
  {
   "cell_type": "code",
   "execution_count": 123,
   "metadata": {},
   "outputs": [
    {
     "name": "stdout",
     "output_type": "stream",
     "text": [
      "{'a': 10}\n",
      "{'a': 10, 'b': 20}\n",
      "{'a': 10, 'b': 20, 'c': 30}\n"
     ]
    }
   ],
   "source": [
    "class Test:\n",
    "    def __init__(self):\n",
    "        self.a=10\n",
    "        \n",
    "    def m1(self):\n",
    "        self.b=20\n",
    "t=Test()\n",
    "print(t.__dict__)\n",
    "t.m1()\n",
    "print(t.__dict__)\n",
    "t.c = 30\n",
    "print(t.__dict__)"
   ]
  },
  {
   "cell_type": "code",
   "execution_count": 133,
   "metadata": {},
   "outputs": [
    {
     "name": "stdout",
     "output_type": "stream",
     "text": [
      "{'a': 999, 'b': 111}\n"
     ]
    }
   ],
   "source": [
    "class Test:\n",
    "    def __init__(self):\n",
    "        self.a=10\n",
    "        \n",
    "    def m1(self):\n",
    "        self.a=777\n",
    "        self.b=888\n",
    "    \n",
    "t = Test()\n",
    "t.m1()\n",
    "#print(t.__dict__)\n",
    "t.a = 999\n",
    "t.b=111\n",
    "print(t.__dict__)"
   ]
  },
  {
   "cell_type": "code",
   "execution_count": 141,
   "metadata": {},
   "outputs": [
    {
     "name": "stdout",
     "output_type": "stream",
     "text": [
      "10 777\n",
      "10 20\n"
     ]
    }
   ],
   "source": [
    "class Test:\n",
    "    a = 10\n",
    "    def __init__(self):\n",
    "        self.b=20\n",
    "        \n",
    "t1 = Test()\n",
    "t2 = Test()\n",
    "t1.a=888\n",
    "t1.b=777\n",
    "print(Test.a,t1.b)\n",
    "print(t2.a,t2.b)"
   ]
  },
  {
   "cell_type": "code",
   "execution_count": 146,
   "metadata": {},
   "outputs": [
    {
     "name": "stdout",
     "output_type": "stream",
     "text": [
      "10\n",
      "20\n"
     ]
    }
   ],
   "source": [
    "class Test:\n",
    "    a = 10\n",
    "    def m1(self):\n",
    "        self.a=20\n",
    "t1 = Test()\n",
    "t1.m1()\n",
    "print(Test.a)\n",
    "print(t1.a)"
   ]
  },
  {
   "cell_type": "code",
   "execution_count": 153,
   "metadata": {},
   "outputs": [
    {
     "name": "stdout",
     "output_type": "stream",
     "text": [
      "{'__module__': '__main__', 'a': 10, '__init__': <function Test.__init__ at 0x00000195E6FAECA8>, 'm1': <classmethod object at 0x00000195AD4E3AC8>, '__dict__': <attribute '__dict__' of 'Test' objects>, '__weakref__': <attribute '__weakref__' of 'Test' objects>, '__doc__': None}\n"
     ]
    }
   ],
   "source": [
    "class Test:\n",
    "    a = 10\n",
    "    def __init__(self):\n",
    "        self.b=20\n",
    "        self.c=30\n",
    "    @classmethod\n",
    "    def m1(cls):\n",
    "        del cls.a\n",
    "        \n",
    "t=Test()\n",
    "print(Test.__dict__)"
   ]
  },
  {
   "cell_type": "code",
   "execution_count": 176,
   "metadata": {},
   "outputs": [
    {
     "name": "stdout",
     "output_type": "stream",
     "text": [
      "20\n",
      "30\n"
     ]
    }
   ],
   "source": [
    "class Test:\n",
    "    def __init__(self):\n",
    "        self.a=20\n",
    "        \n",
    "    def m2(self):\n",
    "        self.b=50\n",
    "class Entry(Test):\n",
    "    def __init__(self):\n",
    "        super().__init__()\n",
    "        #self.a=10\n",
    "        \n",
    "    def m1(self):\n",
    "        self.b=30\n",
    "    \n",
    "e=Entry()\n",
    "e.m2()\n",
    "e.m1()\n",
    "\n",
    "print(e.a)\n",
    "print(e.b)\n"
   ]
  },
  {
   "cell_type": "code",
   "execution_count": null,
   "metadata": {},
   "outputs": [],
   "source": [
    "class Customer:\n",
    "    bankname=\"PublicBank\"\n",
    "    \n",
    "    def __init__(self,name,balance=0):\n",
    "        self.balance=balance\n",
    "        self.name=name\n",
    "        \n",
    "        \n",
    "    def deposite(self,amt):\n",
    "        self.balance = self.balance-amt\n",
    "        print(\"Balance after deposite:\",self.deposite)\n",
    "        \n",
    "    def withdrawl(self,amt):\n",
    "        self.balance=self.balance-amt\n",
    "        print(\"balance after withdrawl:\",self.withdrawl)\n",
    "        \n",
    "        \n",
    "\n",
    "    "
   ]
  }
 ],
 "metadata": {
  "kernelspec": {
   "display_name": "Python 3",
   "language": "python",
   "name": "python3"
  },
  "language_info": {
   "codemirror_mode": {
    "name": "ipython",
    "version": 3
   },
   "file_extension": ".py",
   "mimetype": "text/x-python",
   "name": "python",
   "nbconvert_exporter": "python",
   "pygments_lexer": "ipython3",
   "version": "3.7.4"
  }
 },
 "nbformat": 4,
 "nbformat_minor": 2
}
