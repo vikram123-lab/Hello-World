{
 "cells": [
  {
   "cell_type": "code",
   "execution_count": 32,
   "metadata": {},
   "outputs": [],
   "source": [
    "import pandas as pd\n",
    "\n",
    "df = pd.read_csv(\"pokemon_data.csv\")\n",
    "#print(df[[\"Name\", \"Type 1\", \"HP\"]])\n",
    "#print(df.iloc[0:4])\n",
    "#print(df.iloc[2,2])\n",
    "#for index, row in df.iterrows():\n",
    "   # print(index, row)\n",
    "#df.loc[df[\"Type 1\"] == \"Grass\"]\n",
    "#df.describe()\n",
    "#df.sort_values(\"Name\")\n",
    "#df[\"Total\"] = df[\"HP\"] + df[\"Attack\"] + df[\"Defense\"]\n",
    "#print(df.head)\n",
    "#df = df.drop(columns=[\"Total\"])\n",
    "#print(df.head)\n",
    "#df[\"Total\"] = df.iloc[:,4:9].sum(axis = 1)\n",
    "#df.head(5)\n",
    "#cols = list(df.columns.values)\n",
    "#df = df[cols[0:4] + [cols[-1]]]\n",
    "#df.head(5)\n",
    "df.to_csv(\"modified.csv\")"
   ]
  },
  {
   "cell_type": "code",
   "execution_count": 51,
   "metadata": {},
   "outputs": [
    {
     "name": "stdout",
     "output_type": "stream",
     "text": [
      "enter the number:-11\n",
      "-11 num is not a prime number\n"
     ]
    }
   ],
   "source": [
    "#prime no check \n",
    "n = int(input(\"enter the number:\"))\n",
    "if n>1:\n",
    "    for i in range(2,n//2):\n",
    "        if (n%i)==0:\n",
    "            print(n,\"is not a prime number\")\n",
    "            break\n",
    "    else:\n",
    "        print(n,\"is a prime number\")\n",
    "        \n",
    "else:\n",
    "    print(n,\"num is not a prime number\")"
   ]
  },
  {
   "cell_type": "code",
   "execution_count": null,
   "metadata": {},
   "outputs": [],
   "source": []
  },
  {
   "cell_type": "code",
   "execution_count": 75,
   "metadata": {},
   "outputs": [
    {
     "name": "stdout",
     "output_type": "stream",
     "text": [
      "enter the number:10\n",
      "2 3 5 7 "
     ]
    }
   ],
   "source": [
    "n = int(input(\"enter the number:\"))\n",
    "for i in range(2,n+1):\n",
    "    for j in range(2,i):\n",
    "        if i%j==0:\n",
    "            break\n",
    "                \n",
    "    else:\n",
    "        print(i,end=\" \")"
   ]
  },
  {
   "cell_type": "markdown",
   "metadata": {},
   "source": []
  }
 ],
 "metadata": {
  "kernelspec": {
   "display_name": "Python 3",
   "language": "python",
   "name": "python3"
  },
  "language_info": {
   "codemirror_mode": {
    "name": "ipython",
    "version": 3
   },
   "file_extension": ".py",
   "mimetype": "text/x-python",
   "name": "python",
   "nbconvert_exporter": "python",
   "pygments_lexer": "ipython3",
   "version": "3.7.4"
  }
 },
 "nbformat": 4,
 "nbformat_minor": 2
}
