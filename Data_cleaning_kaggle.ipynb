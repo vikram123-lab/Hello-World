{
 "cells": [
  {
   "cell_type": "code",
   "execution_count": 7,
   "metadata": {},
   "outputs": [],
   "source": [
    "import numpy as np \n",
    "import pandas as pd \n",
    "import re\n",
    "import string"
   ]
  },
  {
   "cell_type": "code",
   "execution_count": 10,
   "metadata": {},
   "outputs": [],
   "source": [
    "data = pd.read_csv(\"Fake.csv\")"
   ]
  },
  {
   "cell_type": "code",
   "execution_count": 11,
   "metadata": {},
   "outputs": [
    {
     "data": {
      "text/html": [
       "<div>\n",
       "<style scoped>\n",
       "    .dataframe tbody tr th:only-of-type {\n",
       "        vertical-align: middle;\n",
       "    }\n",
       "\n",
       "    .dataframe tbody tr th {\n",
       "        vertical-align: top;\n",
       "    }\n",
       "\n",
       "    .dataframe thead th {\n",
       "        text-align: right;\n",
       "    }\n",
       "</style>\n",
       "<table border=\"1\" class=\"dataframe\">\n",
       "  <thead>\n",
       "    <tr style=\"text-align: right;\">\n",
       "      <th></th>\n",
       "      <th>title</th>\n",
       "      <th>text</th>\n",
       "      <th>subject</th>\n",
       "      <th>date</th>\n",
       "    </tr>\n",
       "  </thead>\n",
       "  <tbody>\n",
       "    <tr>\n",
       "      <td>0</td>\n",
       "      <td>Donald Trump Sends Out Embarrassing New Year’...</td>\n",
       "      <td>Donald Trump just couldn t wish all Americans ...</td>\n",
       "      <td>News</td>\n",
       "      <td>December 31, 2017</td>\n",
       "    </tr>\n",
       "    <tr>\n",
       "      <td>1</td>\n",
       "      <td>Drunk Bragging Trump Staffer Started Russian ...</td>\n",
       "      <td>House Intelligence Committee Chairman Devin Nu...</td>\n",
       "      <td>News</td>\n",
       "      <td>December 31, 2017</td>\n",
       "    </tr>\n",
       "    <tr>\n",
       "      <td>2</td>\n",
       "      <td>Sheriff David Clarke Becomes An Internet Joke...</td>\n",
       "      <td>On Friday, it was revealed that former Milwauk...</td>\n",
       "      <td>News</td>\n",
       "      <td>December 30, 2017</td>\n",
       "    </tr>\n",
       "    <tr>\n",
       "      <td>3</td>\n",
       "      <td>Trump Is So Obsessed He Even Has Obama’s Name...</td>\n",
       "      <td>On Christmas day, Donald Trump announced that ...</td>\n",
       "      <td>News</td>\n",
       "      <td>December 29, 2017</td>\n",
       "    </tr>\n",
       "    <tr>\n",
       "      <td>4</td>\n",
       "      <td>Pope Francis Just Called Out Donald Trump Dur...</td>\n",
       "      <td>Pope Francis used his annual Christmas Day mes...</td>\n",
       "      <td>News</td>\n",
       "      <td>December 25, 2017</td>\n",
       "    </tr>\n",
       "  </tbody>\n",
       "</table>\n",
       "</div>"
      ],
      "text/plain": [
       "                                               title  \\\n",
       "0   Donald Trump Sends Out Embarrassing New Year’...   \n",
       "1   Drunk Bragging Trump Staffer Started Russian ...   \n",
       "2   Sheriff David Clarke Becomes An Internet Joke...   \n",
       "3   Trump Is So Obsessed He Even Has Obama’s Name...   \n",
       "4   Pope Francis Just Called Out Donald Trump Dur...   \n",
       "\n",
       "                                                text subject  \\\n",
       "0  Donald Trump just couldn t wish all Americans ...    News   \n",
       "1  House Intelligence Committee Chairman Devin Nu...    News   \n",
       "2  On Friday, it was revealed that former Milwauk...    News   \n",
       "3  On Christmas day, Donald Trump announced that ...    News   \n",
       "4  Pope Francis used his annual Christmas Day mes...    News   \n",
       "\n",
       "                date  \n",
       "0  December 31, 2017  \n",
       "1  December 31, 2017  \n",
       "2  December 30, 2017  \n",
       "3  December 29, 2017  \n",
       "4  December 25, 2017  "
      ]
     },
     "execution_count": 11,
     "metadata": {},
     "output_type": "execute_result"
    }
   ],
   "source": [
    "data.head()"
   ]
  },
  {
   "cell_type": "code",
   "execution_count": 12,
   "metadata": {},
   "outputs": [],
   "source": [
    "data['number_of_chr'] = data['text'].str.len()"
   ]
  },
  {
   "cell_type": "code",
   "execution_count": 19,
   "metadata": {},
   "outputs": [
    {
     "data": {
      "text/html": [
       "<div>\n",
       "<style scoped>\n",
       "    .dataframe tbody tr th:only-of-type {\n",
       "        vertical-align: middle;\n",
       "    }\n",
       "\n",
       "    .dataframe tbody tr th {\n",
       "        vertical-align: top;\n",
       "    }\n",
       "\n",
       "    .dataframe thead th {\n",
       "        text-align: right;\n",
       "    }\n",
       "</style>\n",
       "<table border=\"1\" class=\"dataframe\">\n",
       "  <thead>\n",
       "    <tr style=\"text-align: right;\">\n",
       "      <th></th>\n",
       "      <th>text</th>\n",
       "      <th>number_of_chr</th>\n",
       "    </tr>\n",
       "  </thead>\n",
       "  <tbody>\n",
       "    <tr>\n",
       "      <td>0</td>\n",
       "      <td>Donald Trump just couldn t wish all Americans ...</td>\n",
       "      <td>2893</td>\n",
       "    </tr>\n",
       "    <tr>\n",
       "      <td>1</td>\n",
       "      <td>House Intelligence Committee Chairman Devin Nu...</td>\n",
       "      <td>1898</td>\n",
       "    </tr>\n",
       "    <tr>\n",
       "      <td>2</td>\n",
       "      <td>On Friday, it was revealed that former Milwauk...</td>\n",
       "      <td>3597</td>\n",
       "    </tr>\n",
       "    <tr>\n",
       "      <td>3</td>\n",
       "      <td>On Christmas day, Donald Trump announced that ...</td>\n",
       "      <td>2774</td>\n",
       "    </tr>\n",
       "    <tr>\n",
       "      <td>4</td>\n",
       "      <td>Pope Francis used his annual Christmas Day mes...</td>\n",
       "      <td>2346</td>\n",
       "    </tr>\n",
       "  </tbody>\n",
       "</table>\n",
       "</div>"
      ],
      "text/plain": [
       "                                                text  number_of_chr\n",
       "0  Donald Trump just couldn t wish all Americans ...           2893\n",
       "1  House Intelligence Committee Chairman Devin Nu...           1898\n",
       "2  On Friday, it was revealed that former Milwauk...           3597\n",
       "3  On Christmas day, Donald Trump announced that ...           2774\n",
       "4  Pope Francis used his annual Christmas Day mes...           2346"
      ]
     },
     "execution_count": 19,
     "metadata": {},
     "output_type": "execute_result"
    }
   ],
   "source": [
    "data[['text','number_of_chr']].head()"
   ]
  },
  {
   "cell_type": "code",
   "execution_count": 42,
   "metadata": {},
   "outputs": [],
   "source": [
    "def spl(x):\n",
    "    l = []\n",
    "    for i in x.split():\n",
    "        l.append(i)\n",
    "    return len(l)"
   ]
  },
  {
   "cell_type": "code",
   "execution_count": 56,
   "metadata": {},
   "outputs": [],
   "source": [
    "data['number_of_words'] = data['text'].apply(lambda x:len(str(x).split(\" \")))\n"
   ]
  },
  {
   "cell_type": "code",
   "execution_count": 57,
   "metadata": {},
   "outputs": [
    {
     "data": {
      "text/plain": [
       "0    516\n",
       "1    309\n",
       "2    600\n",
       "3    475\n",
       "4    434\n",
       "Name: number_of_words, dtype: int64"
      ]
     },
     "execution_count": 57,
     "metadata": {},
     "output_type": "execute_result"
    }
   ],
   "source": [
    "data['number_of_words'].head()"
   ]
  },
  {
   "cell_type": "code",
   "execution_count": 60,
   "metadata": {},
   "outputs": [
    {
     "data": {
      "text/html": [
       "<div>\n",
       "<style scoped>\n",
       "    .dataframe tbody tr th:only-of-type {\n",
       "        vertical-align: middle;\n",
       "    }\n",
       "\n",
       "    .dataframe tbody tr th {\n",
       "        vertical-align: top;\n",
       "    }\n",
       "\n",
       "    .dataframe thead th {\n",
       "        text-align: right;\n",
       "    }\n",
       "</style>\n",
       "<table border=\"1\" class=\"dataframe\">\n",
       "  <thead>\n",
       "    <tr style=\"text-align: right;\">\n",
       "      <th></th>\n",
       "      <th>text</th>\n",
       "      <th>word_length</th>\n",
       "    </tr>\n",
       "  </thead>\n",
       "  <tbody>\n",
       "    <tr>\n",
       "      <td>0</td>\n",
       "      <td>Donald Trump just couldn t wish all Americans ...</td>\n",
       "      <td>4.804040</td>\n",
       "    </tr>\n",
       "    <tr>\n",
       "      <td>1</td>\n",
       "      <td>House Intelligence Committee Chairman Devin Nu...</td>\n",
       "      <td>5.213115</td>\n",
       "    </tr>\n",
       "    <tr>\n",
       "      <td>2</td>\n",
       "      <td>On Friday, it was revealed that former Milwauk...</td>\n",
       "      <td>5.168966</td>\n",
       "    </tr>\n",
       "    <tr>\n",
       "      <td>3</td>\n",
       "      <td>On Christmas day, Donald Trump announced that ...</td>\n",
       "      <td>5.180180</td>\n",
       "    </tr>\n",
       "    <tr>\n",
       "      <td>4</td>\n",
       "      <td>Pope Francis used his annual Christmas Day mes...</td>\n",
       "      <td>4.554762</td>\n",
       "    </tr>\n",
       "  </tbody>\n",
       "</table>\n",
       "</div>"
      ],
      "text/plain": [
       "                                                text  word_length\n",
       "0  Donald Trump just couldn t wish all Americans ...     4.804040\n",
       "1  House Intelligence Committee Chairman Devin Nu...     5.213115\n",
       "2  On Friday, it was revealed that former Milwauk...     5.168966\n",
       "3  On Christmas day, Donald Trump announced that ...     5.180180\n",
       "4  Pope Francis used his annual Christmas Day mes...     4.554762"
      ]
     },
     "execution_count": 60,
     "metadata": {},
     "output_type": "execute_result"
    }
   ],
   "source": [
    "def avg_word_converter(sentence):\n",
    "    words = sentence.split()\n",
    "    if (len(words)==0): return 0\n",
    "    return (sum(len(word) for word in words)/len(words))\n",
    "\n",
    "data['word_length'] = data['text'].apply(lambda x: avg_word_converter(x))\n",
    "data[['text','word_length']].head()"
   ]
  },
  {
   "cell_type": "code",
   "execution_count": 61,
   "metadata": {},
   "outputs": [
    {
     "data": {
      "text/html": [
       "<div>\n",
       "<style scoped>\n",
       "    .dataframe tbody tr th:only-of-type {\n",
       "        vertical-align: middle;\n",
       "    }\n",
       "\n",
       "    .dataframe tbody tr th {\n",
       "        vertical-align: top;\n",
       "    }\n",
       "\n",
       "    .dataframe thead th {\n",
       "        text-align: right;\n",
       "    }\n",
       "</style>\n",
       "<table border=\"1\" class=\"dataframe\">\n",
       "  <thead>\n",
       "    <tr style=\"text-align: right;\">\n",
       "      <th></th>\n",
       "      <th>text</th>\n",
       "      <th>number_of_numbers</th>\n",
       "    </tr>\n",
       "  </thead>\n",
       "  <tbody>\n",
       "    <tr>\n",
       "      <td>0</td>\n",
       "      <td>Donald Trump just couldn t wish all Americans ...</td>\n",
       "      <td>4</td>\n",
       "    </tr>\n",
       "    <tr>\n",
       "      <td>1</td>\n",
       "      <td>House Intelligence Committee Chairman Devin Nu...</td>\n",
       "      <td>0</td>\n",
       "    </tr>\n",
       "    <tr>\n",
       "      <td>2</td>\n",
       "      <td>On Friday, it was revealed that former Milwauk...</td>\n",
       "      <td>0</td>\n",
       "    </tr>\n",
       "    <tr>\n",
       "      <td>3</td>\n",
       "      <td>On Christmas day, Donald Trump announced that ...</td>\n",
       "      <td>5</td>\n",
       "    </tr>\n",
       "    <tr>\n",
       "      <td>4</td>\n",
       "      <td>Pope Francis used his annual Christmas Day mes...</td>\n",
       "      <td>0</td>\n",
       "    </tr>\n",
       "  </tbody>\n",
       "</table>\n",
       "</div>"
      ],
      "text/plain": [
       "                                                text  number_of_numbers\n",
       "0  Donald Trump just couldn t wish all Americans ...                  4\n",
       "1  House Intelligence Committee Chairman Devin Nu...                  0\n",
       "2  On Friday, it was revealed that former Milwauk...                  0\n",
       "3  On Christmas day, Donald Trump announced that ...                  5\n",
       "4  Pope Francis used his annual Christmas Day mes...                  0"
      ]
     },
     "execution_count": 61,
     "metadata": {},
     "output_type": "execute_result"
    }
   ],
   "source": [
    "data['number_of_numbers'] = data['text'].apply(lambda x: len([x for x in x.split() if x.isdigit()]))\n",
    "data[['text','number_of_numbers']].head()"
   ]
  },
  {
   "cell_type": "code",
   "execution_count": 62,
   "metadata": {},
   "outputs": [],
   "source": [
    "def find_nonalp(text):\n",
    "    line = re.findall(\"[^A-Za-z0-9 ]\",text)\n",
    "    return line"
   ]
  },
  {
   "cell_type": "code",
   "execution_count": 63,
   "metadata": {},
   "outputs": [
    {
     "data": {
      "text/html": [
       "<div>\n",
       "<style scoped>\n",
       "    .dataframe tbody tr th:only-of-type {\n",
       "        vertical-align: middle;\n",
       "    }\n",
       "\n",
       "    .dataframe tbody tr th {\n",
       "        vertical-align: top;\n",
       "    }\n",
       "\n",
       "    .dataframe thead th {\n",
       "        text-align: right;\n",
       "    }\n",
       "</style>\n",
       "<table border=\"1\" class=\"dataframe\">\n",
       "  <thead>\n",
       "    <tr style=\"text-align: right;\">\n",
       "      <th></th>\n",
       "      <th>text</th>\n",
       "      <th>non_alp</th>\n",
       "    </tr>\n",
       "  </thead>\n",
       "  <tbody>\n",
       "    <tr>\n",
       "      <td>0</td>\n",
       "      <td>Donald Trump just couldn t wish all Americans ...</td>\n",
       "      <td>121</td>\n",
       "    </tr>\n",
       "    <tr>\n",
       "      <td>1</td>\n",
       "      <td>House Intelligence Committee Chairman Devin Nu...</td>\n",
       "      <td>39</td>\n",
       "    </tr>\n",
       "    <tr>\n",
       "      <td>2</td>\n",
       "      <td>On Friday, it was revealed that former Milwauk...</td>\n",
       "      <td>148</td>\n",
       "    </tr>\n",
       "    <tr>\n",
       "      <td>3</td>\n",
       "      <td>On Christmas day, Donald Trump announced that ...</td>\n",
       "      <td>118</td>\n",
       "    </tr>\n",
       "    <tr>\n",
       "      <td>4</td>\n",
       "      <td>Pope Francis used his annual Christmas Day mes...</td>\n",
       "      <td>40</td>\n",
       "    </tr>\n",
       "  </tbody>\n",
       "</table>\n",
       "</div>"
      ],
      "text/plain": [
       "                                                text  non_alp\n",
       "0  Donald Trump just couldn t wish all Americans ...      121\n",
       "1  House Intelligence Committee Chairman Devin Nu...       39\n",
       "2  On Friday, it was revealed that former Milwauk...      148\n",
       "3  On Christmas day, Donald Trump announced that ...      118\n",
       "4  Pope Francis used his annual Christmas Day mes...       40"
      ]
     },
     "execution_count": 63,
     "metadata": {},
     "output_type": "execute_result"
    }
   ],
   "source": [
    "data['non_alp'] = data['text'].apply(lambda x: len(find_nonalp(x)))\n",
    "data[['text', 'non_alp']].head()"
   ]
  },
  {
   "cell_type": "code",
   "execution_count": 77,
   "metadata": {},
   "outputs": [],
   "source": [
    "data['number_of_lower_case'] = data['text'].apply(lambda x:len([x for x in x.split() if x.islower()]))"
   ]
  },
  {
   "cell_type": "code",
   "execution_count": 78,
   "metadata": {},
   "outputs": [
    {
     "data": {
      "text/html": [
       "<div>\n",
       "<style scoped>\n",
       "    .dataframe tbody tr th:only-of-type {\n",
       "        vertical-align: middle;\n",
       "    }\n",
       "\n",
       "    .dataframe tbody tr th {\n",
       "        vertical-align: top;\n",
       "    }\n",
       "\n",
       "    .dataframe thead th {\n",
       "        text-align: right;\n",
       "    }\n",
       "</style>\n",
       "<table border=\"1\" class=\"dataframe\">\n",
       "  <thead>\n",
       "    <tr style=\"text-align: right;\">\n",
       "      <th></th>\n",
       "      <th>text</th>\n",
       "      <th>number_of_lower_case</th>\n",
       "    </tr>\n",
       "  </thead>\n",
       "  <tbody>\n",
       "    <tr>\n",
       "      <td>0</td>\n",
       "      <td>Donald Trump just couldn t wish all Americans ...</td>\n",
       "      <td>347</td>\n",
       "    </tr>\n",
       "    <tr>\n",
       "      <td>1</td>\n",
       "      <td>House Intelligence Committee Chairman Devin Nu...</td>\n",
       "      <td>225</td>\n",
       "    </tr>\n",
       "    <tr>\n",
       "      <td>2</td>\n",
       "      <td>On Friday, it was revealed that former Milwauk...</td>\n",
       "      <td>414</td>\n",
       "    </tr>\n",
       "    <tr>\n",
       "      <td>3</td>\n",
       "      <td>On Christmas day, Donald Trump announced that ...</td>\n",
       "      <td>339</td>\n",
       "    </tr>\n",
       "    <tr>\n",
       "      <td>4</td>\n",
       "      <td>Pope Francis used his annual Christmas Day mes...</td>\n",
       "      <td>358</td>\n",
       "    </tr>\n",
       "  </tbody>\n",
       "</table>\n",
       "</div>"
      ],
      "text/plain": [
       "                                                text  number_of_lower_case\n",
       "0  Donald Trump just couldn t wish all Americans ...                   347\n",
       "1  House Intelligence Committee Chairman Devin Nu...                   225\n",
       "2  On Friday, it was revealed that former Milwauk...                   414\n",
       "3  On Christmas day, Donald Trump announced that ...                   339\n",
       "4  Pope Francis used his annual Christmas Day mes...                   358"
      ]
     },
     "execution_count": 78,
     "metadata": {},
     "output_type": "execute_result"
    }
   ],
   "source": [
    "data[['text', 'number_of_lower_case']].head()"
   ]
  },
  {
   "cell_type": "code",
   "execution_count": 80,
   "metadata": {},
   "outputs": [],
   "source": [
    "data['number_of_upper_case'] = data['text'].apply(lambda x:len([x for x in x.split() if x.isupper()]))"
   ]
  },
  {
   "cell_type": "code",
   "execution_count": 81,
   "metadata": {},
   "outputs": [
    {
     "data": {
      "text/html": [
       "<div>\n",
       "<style scoped>\n",
       "    .dataframe tbody tr th:only-of-type {\n",
       "        vertical-align: middle;\n",
       "    }\n",
       "\n",
       "    .dataframe tbody tr th {\n",
       "        vertical-align: top;\n",
       "    }\n",
       "\n",
       "    .dataframe thead th {\n",
       "        text-align: right;\n",
       "    }\n",
       "</style>\n",
       "<table border=\"1\" class=\"dataframe\">\n",
       "  <thead>\n",
       "    <tr style=\"text-align: right;\">\n",
       "      <th></th>\n",
       "      <th>text</th>\n",
       "      <th>number_of_upper_case</th>\n",
       "    </tr>\n",
       "  </thead>\n",
       "  <tbody>\n",
       "    <tr>\n",
       "      <td>0</td>\n",
       "      <td>Donald Trump just couldn t wish all Americans ...</td>\n",
       "      <td>5</td>\n",
       "    </tr>\n",
       "    <tr>\n",
       "      <td>1</td>\n",
       "      <td>House Intelligence Committee Chairman Devin Nu...</td>\n",
       "      <td>3</td>\n",
       "    </tr>\n",
       "    <tr>\n",
       "      <td>2</td>\n",
       "      <td>On Friday, it was revealed that former Milwauk...</td>\n",
       "      <td>42</td>\n",
       "    </tr>\n",
       "    <tr>\n",
       "      <td>3</td>\n",
       "      <td>On Christmas day, Donald Trump announced that ...</td>\n",
       "      <td>5</td>\n",
       "    </tr>\n",
       "    <tr>\n",
       "      <td>4</td>\n",
       "      <td>Pope Francis used his annual Christmas Day mes...</td>\n",
       "      <td>0</td>\n",
       "    </tr>\n",
       "  </tbody>\n",
       "</table>\n",
       "</div>"
      ],
      "text/plain": [
       "                                                text  number_of_upper_case\n",
       "0  Donald Trump just couldn t wish all Americans ...                     5\n",
       "1  House Intelligence Committee Chairman Devin Nu...                     3\n",
       "2  On Friday, it was revealed that former Milwauk...                    42\n",
       "3  On Christmas day, Donald Trump announced that ...                     5\n",
       "4  Pope Francis used his annual Christmas Day mes...                     0"
      ]
     },
     "execution_count": 81,
     "metadata": {},
     "output_type": "execute_result"
    }
   ],
   "source": [
    "data[['text', 'number_of_upper_case']].head()"
   ]
  },
  {
   "cell_type": "code",
   "execution_count": 82,
   "metadata": {},
   "outputs": [
    {
     "name": "stdout",
     "output_type": "stream",
     "text": [
      "Low life for life cause Im Heartless\n"
     ]
    }
   ],
   "source": [
    "text_with_punctuation = \"Low life for life cause I'm Heartless!!!!!\"\n",
    "text_without_punctuation  = \"\".join([char for char in text_with_punctuation if char not in string.punctuation])\n",
    "print(text_without_punctuation)"
   ]
  },
  {
   "cell_type": "code",
   "execution_count": 83,
   "metadata": {},
   "outputs": [],
   "source": [
    "from nltk.corpus import stopwords\n",
    "stop = stopwords.words('english')\n",
    "\n",
    "text_with_stopwords = \"You are not a funny person\""
   ]
  },
  {
   "cell_type": "code",
   "execution_count": 84,
   "metadata": {},
   "outputs": [
    {
     "name": "stdout",
     "output_type": "stream",
     "text": [
      "Youfunnyperson\n"
     ]
    }
   ],
   "source": [
    "text_without_stopwords = \"\".join([word for word in text_with_stopwords.split() if word not in stop])\n",
    "\n",
    "print(text_without_stopwords)"
   ]
  },
  {
   "cell_type": "code",
   "execution_count": 88,
   "metadata": {},
   "outputs": [],
   "source": [
    "text_with_numbers = \"I turned 16 at 6/16/2020!\""
   ]
  },
  {
   "cell_type": "code",
   "execution_count": 97,
   "metadata": {},
   "outputs": [
    {
     "name": "stdout",
     "output_type": "stream",
     "text": [
      "I turned  at //!\n"
     ]
    }
   ],
   "source": [
    "text_without_numbers = \"\".join([x for x in text_with_numbers if not x.isdigit()])\n",
    "print(text_without_numbers)"
   ]
  },
  {
   "cell_type": "code",
   "execution_count": 98,
   "metadata": {},
   "outputs": [],
   "source": [
    "text_with_urls = \"Check out my notebook at https://www.kaggle.com/prestonfan/amazon-instrument-reviews-analysis.\""
   ]
  },
  {
   "cell_type": "code",
   "execution_count": 99,
   "metadata": {},
   "outputs": [
    {
     "name": "stdout",
     "output_type": "stream",
     "text": [
      "Check out my notebook at \n"
     ]
    }
   ],
   "source": [
    "cleanr = re.compile('https?://\\S+|www\\.\\S+')\n",
    "text_without_urls = re.sub(cleanr, '', text_with_urls)\n",
    "\n",
    "print(text_without_urls)"
   ]
  },
  {
   "cell_type": "code",
   "execution_count": 100,
   "metadata": {},
   "outputs": [
    {
     "name": "stdout",
     "output_type": "stream",
     "text": [
      "Giannis Antetokounmpo\n"
     ]
    }
   ],
   "source": [
    "text_with_html_tags = \"<p>Giannis Antetokounmpo</p>\"\n",
    "cleanr = re.compile('<.*?>')\n",
    "text_without_html_tags = re.sub(cleanr, '', text_with_html_tags)\n",
    "\n",
    "print(text_without_html_tags)"
   ]
  },
  {
   "cell_type": "code",
   "execution_count": 101,
   "metadata": {},
   "outputs": [],
   "source": [
    "text_with_emojis = \"🎸 Amazon 🎸 Instrument 🎸 Reviews 🎸 Analysis\""
   ]
  },
  {
   "cell_type": "code",
   "execution_count": 102,
   "metadata": {},
   "outputs": [
    {
     "name": "stdout",
     "output_type": "stream",
     "text": [
      " Amazon  Instrument  Reviews  Analysis\n"
     ]
    }
   ],
   "source": [
    "emoji_pattern = re.compile(\"[\"\n",
    "                           u\"\\U0001F600-\\U0001F64F\"  \n",
    "                           u\"\\U0001F300-\\U0001F5FF\"  \n",
    "                           u\"\\U0001F680-\\U0001F6FF\"  \n",
    "                           u\"\\U0001F1E0-\\U0001F1FF\" \n",
    "                           u\"\\U00002702-\\U000027B0\"\n",
    "                           u\"\\U000024C2-\\U0001F251\"\n",
    "                           \"]+\", flags=re.UNICODE)\n",
    "\n",
    "text_without_emojis = emoji_pattern.sub(r'', text_with_emojis)\n",
    "\n",
    "print(text_without_emojis)"
   ]
  },
  {
   "cell_type": "code",
   "execution_count": 103,
   "metadata": {},
   "outputs": [],
   "source": [
    "from nltk.stem import PorterStemmer\n",
    "st = PorterStemmer()\n",
    "\n",
    "text = \"FlightReacts is popping off in the month June, will he get even better and more amazing?\""
   ]
  },
  {
   "cell_type": "code",
   "execution_count": 104,
   "metadata": {},
   "outputs": [
    {
     "name": "stdout",
     "output_type": "stream",
     "text": [
      "flightreact is pop off in the month june, will he get even better and more amazing?\n"
     ]
    }
   ],
   "source": [
    "stemmed_text = \" \".join([st.stem(word) for word in text.split()])\n",
    "\n",
    "print(stemmed_text)"
   ]
  },
  {
   "cell_type": "code",
   "execution_count": 105,
   "metadata": {},
   "outputs": [],
   "source": [
    "from nltk.stem import WordNetLemmatizer \n",
    "  \n",
    "lemmatizer = WordNetLemmatizer() \n",
    "\n",
    "text = \"I like reading and enjoying papers about Natural Language Processing\""
   ]
  },
  {
   "cell_type": "code",
   "execution_count": 106,
   "metadata": {},
   "outputs": [
    {
     "name": "stdout",
     "output_type": "stream",
     "text": [
      "I like reading and enjoying paper about Natural Language Processing\n"
     ]
    }
   ],
   "source": [
    "lemmatized_text = \" \".join([lemmatizer.lemmatize(word) for word in text.split()])\n",
    "\n",
    "print(lemmatized_text)"
   ]
  },
  {
   "cell_type": "code",
   "execution_count": 107,
   "metadata": {},
   "outputs": [
    {
     "data": {
      "text/plain": [
       "grabs?                    1\n",
       "methodologically          1\n",
       "Jidda,                    1\n",
       "Iran.Days                 1\n",
       "stupidity.Some            1\n",
       "                         ..\n",
       "undertone,                1\n",
       "lip.Staring               1\n",
       "Ester                     1\n",
       "ceilings                  1\n",
       "disabilities.According    1\n",
       "Length: 100, dtype: int64"
      ]
     },
     "execution_count": 107,
     "metadata": {},
     "output_type": "execute_result"
    }
   ],
   "source": [
    "freq = pd.Series(' '.join(data['text']).split()).value_counts()[-100:]\n",
    "\n",
    "freq"
   ]
  },
  {
   "cell_type": "code",
   "execution_count": 108,
   "metadata": {},
   "outputs": [
    {
     "data": {
      "text/plain": [
       "0    Donald Trump just couldn t wish all Americans ...\n",
       "1    House Intelligence Committee Chairman Devin Nu...\n",
       "2    On Friday, it was revealed that former Milwauk...\n",
       "3    On Christmas day, Donald Trump announced that ...\n",
       "4    Pope Francis used his annual Christmas Day mes...\n",
       "Name: text, dtype: object"
      ]
     },
     "execution_count": 108,
     "metadata": {},
     "output_type": "execute_result"
    }
   ],
   "source": [
    "freq = list(freq.index)\n",
    "data['text'] = data['text'].apply(lambda x: \" \".join(x for x in x.split() if x not in freq))\n",
    "data['text'].head()"
   ]
  },
  {
   "cell_type": "code",
   "execution_count": 111,
   "metadata": {},
   "outputs": [],
   "source": [
    "text = \"I hopee to eventualy gett a bronz medal in competitiionn!\""
   ]
  },
  {
   "cell_type": "code",
   "execution_count": 112,
   "metadata": {},
   "outputs": [
    {
     "data": {
      "text/plain": [
       "TextBlob(\"I hope to eventually get a bronze medal in competition!\")"
      ]
     },
     "execution_count": 112,
     "metadata": {},
     "output_type": "execute_result"
    }
   ],
   "source": [
    "from textblob import TextBlob\n",
    "\n",
    "text = TextBlob(text).correct()\n",
    "text"
   ]
  },
  {
   "cell_type": "code",
   "execution_count": 113,
   "metadata": {},
   "outputs": [
    {
     "name": "stdout",
     "output_type": "stream",
     "text": [
      "  (0, 3255709)\t1\n",
      "  (0, 142337)\t1\n",
      "  (0, 1758717)\t1\n",
      "  (0, 1624785)\t1\n",
      "  (0, 2218705)\t1\n",
      "  (0, 1624788)\t1\n",
      "  (0, 58077)\t1\n",
      "  (0, 1177446)\t1\n",
      "  (0, 2543089)\t1\n",
      "  (0, 2802457)\t1\n",
      "  (0, 3255918)\t1\n",
      "  (0, 2322111)\t1\n",
      "  (0, 726716)\t1\n",
      "  (0, 251247)\t1\n",
      "  (0, 2135471)\t1\n",
      "  (0, 3097552)\t1\n",
      "  (0, 318228)\t1\n",
      "  (0, 3255710)\t1\n",
      "  (0, 2248518)\t1\n",
      "  (0, 2526240)\t1\n",
      "  (0, 1197962)\t1\n",
      "  (0, 824010)\t1\n",
      "  (0, 2182602)\t1\n",
      "  (0, 1461399)\t1\n",
      "  (0, 1157515)\t1\n",
      "  :\t:\n",
      "  (22702, 3167348)\t1\n",
      "  (22702, 2320394)\t1\n",
      "  (22702, 839269)\t1\n",
      "  (22702, 1882110)\t1\n",
      "  (22702, 236924)\t1\n",
      "  (22702, 2608101)\t1\n",
      "  (22702, 1400694)\t1\n",
      "  (22702, 2941968)\t1\n",
      "  (22702, 1533079)\t1\n",
      "  (22702, 2585454)\t1\n",
      "  (22702, 262348)\t1\n",
      "  (22702, 887489)\t1\n",
      "  (22702, 2814551)\t1\n",
      "  (22702, 582453)\t1\n",
      "  (22702, 2002943)\t1\n",
      "  (22702, 2293846)\t1\n",
      "  (22702, 2113060)\t1\n",
      "  (22702, 987065)\t1\n",
      "  (22702, 930071)\t1\n",
      "  (22702, 1356281)\t1\n",
      "  (22702, 2235703)\t1\n",
      "  (22702, 1168132)\t1\n",
      "  (22702, 1488648)\t1\n",
      "  (22702, 2119876)\t1\n",
      "  (22702, 3322745)\t1\n"
     ]
    }
   ],
   "source": [
    "from sklearn.feature_extraction.text import CountVectorizer\n",
    "\n",
    "cv = CountVectorizer(min_df=0,max_df=1,binary=False,ngram_range=(1,3))\n",
    "\n",
    "cv_train_text=cv.fit_transform(data['text'])\n",
    "\n",
    "print(cv_train_text)"
   ]
  },
  {
   "cell_type": "code",
   "execution_count": 115,
   "metadata": {},
   "outputs": [
    {
     "name": "stdout",
     "output_type": "stream",
     "text": [
      "  (0, 511143)\t0.10050378152592122\n",
      "  (0, 331514)\t0.10050378152592122\n",
      "  (0, 811866)\t0.10050378152592122\n",
      "  (0, 345814)\t0.10050378152592122\n",
      "  (0, 722791)\t0.10050378152592122\n",
      "  (0, 14349)\t0.10050378152592122\n",
      "  (0, 18963)\t0.10050378152592122\n",
      "  (0, 584135)\t0.10050378152592122\n",
      "  (0, 408382)\t0.10050378152592122\n",
      "  (0, 294928)\t0.10050378152592122\n",
      "  (0, 13114)\t0.10050378152592122\n",
      "  (0, 788843)\t0.10050378152592122\n",
      "  (0, 788830)\t0.10050378152592122\n",
      "  (0, 327579)\t0.10050378152592122\n",
      "  (0, 702942)\t0.10050378152592122\n",
      "  (0, 701285)\t0.10050378152592122\n",
      "  (0, 294014)\t0.10050378152592122\n",
      "  (0, 15221)\t0.10050378152592122\n",
      "  (0, 709460)\t0.10050378152592122\n",
      "  (0, 631765)\t0.10050378152592122\n",
      "  (0, 618373)\t0.10050378152592122\n",
      "  (0, 231278)\t0.10050378152592122\n",
      "  (0, 275639)\t0.10050378152592122\n",
      "  (0, 342593)\t0.10050378152592122\n",
      "  (0, 13103)\t0.10050378152592122\n",
      "  :\t:\n",
      "  (22702, 615843)\t0.06967330142916163\n",
      "  (22702, 439865)\t0.06967330142916163\n",
      "  (22702, 196228)\t0.06967330142916163\n",
      "  (22702, 504621)\t0.06967330142916163\n",
      "  (22702, 81004)\t0.06967330142916163\n",
      "  (22702, 334272)\t0.06967330142916163\n",
      "  (22702, 787005)\t0.06967330142916163\n",
      "  (22702, 312977)\t0.06967330142916163\n",
      "  (22702, 396147)\t0.06967330142916163\n",
      "  (22702, 103986)\t0.06967330142916163\n",
      "  (22702, 510594)\t0.06967330142916163\n",
      "  (22702, 130177)\t0.06967330142916163\n",
      "  (22702, 56220)\t0.06967330142916163\n",
      "  (22702, 420414)\t0.06967330142916163\n",
      "  (22702, 131410)\t0.06967330142916163\n",
      "  (22702, 752089)\t0.06967330142916163\n",
      "  (22702, 154587)\t0.06967330142916163\n",
      "  (22702, 244259)\t0.06967330142916163\n",
      "  (22702, 385556)\t0.06967330142916163\n",
      "  (22702, 583916)\t0.06967330142916163\n",
      "  (22702, 244386)\t0.06967330142916163\n",
      "  (22702, 101180)\t0.06967330142916163\n",
      "  (22702, 84372)\t0.06967330142916163\n",
      "  (22702, 467001)\t0.06967330142916163\n",
      "  (22702, 103985)\t0.06967330142916163\n"
     ]
    }
   ],
   "source": [
    "from sklearn.feature_extraction.text import TfidfVectorizer\n",
    "\n",
    "tf=TfidfVectorizer(min_df=0,max_df=1,use_idf=True,ngram_range=(1,2))\n",
    "tf_idf_text=tf.fit_transform(data['text'])\n",
    "\n",
    "print(tf_idf_text)"
   ]
  },
  {
   "cell_type": "code",
   "execution_count": 117,
   "metadata": {},
   "outputs": [
    {
     "name": "stdout",
     "output_type": "stream",
     "text": [
      "888 777\n",
      "10 20\n",
      "10\n"
     ]
    }
   ],
   "source": [
    "class A:\n",
    "    a = 10\n",
    "    def __init__(self):\n",
    "        self.b = 20\n",
    "        \n",
    "t1 = A()\n",
    "t1.b = 777\n",
    "t1.a = 888\n",
    "t2 = A()\n",
    "print(t1.a,t1.b)\n",
    "print(t2.a,t2.b)\n",
    "print(A.a)"
   ]
  },
  {
   "cell_type": "code",
   "execution_count": 147,
   "metadata": {},
   "outputs": [
    {
     "ename": "AttributeError",
     "evalue": "'Test' object has no attribute 'a'",
     "output_type": "error",
     "traceback": [
      "\u001b[1;31m---------------------------------------------------------------------------\u001b[0m",
      "\u001b[1;31mAttributeError\u001b[0m                            Traceback (most recent call last)",
      "\u001b[1;32m<ipython-input-147-4dec5bb659bd>\u001b[0m in \u001b[0;36m<module>\u001b[1;34m\u001b[0m\n\u001b[0;32m      8\u001b[0m \u001b[1;31m#t = Test()\u001b[0m\u001b[1;33m\u001b[0m\u001b[1;33m\u001b[0m\u001b[1;33m\u001b[0m\u001b[0m\n\u001b[0;32m      9\u001b[0m \u001b[1;33m\u001b[0m\u001b[0m\n\u001b[1;32m---> 10\u001b[1;33m \u001b[0mprint\u001b[0m\u001b[1;33m(\u001b[0m\u001b[0mt\u001b[0m\u001b[1;33m.\u001b[0m\u001b[0ma\u001b[0m\u001b[1;33m)\u001b[0m\u001b[1;33m\u001b[0m\u001b[1;33m\u001b[0m\u001b[0m\n\u001b[0m\u001b[0;32m     11\u001b[0m \u001b[0mprint\u001b[0m\u001b[1;33m(\u001b[0m\u001b[0mt\u001b[0m\u001b[1;33m.\u001b[0m\u001b[0ma\u001b[0m\u001b[1;33m)\u001b[0m\u001b[1;33m\u001b[0m\u001b[1;33m\u001b[0m\u001b[0m\n\u001b[0;32m     12\u001b[0m \u001b[0mprint\u001b[0m\u001b[1;33m(\u001b[0m\u001b[0mTest\u001b[0m\u001b[1;33m.\u001b[0m\u001b[0ma\u001b[0m\u001b[1;33m)\u001b[0m\u001b[1;33m\u001b[0m\u001b[1;33m\u001b[0m\u001b[0m\n",
      "\u001b[1;31mAttributeError\u001b[0m: 'Test' object has no attribute 'a'"
     ]
    }
   ],
   "source": [
    "class Test:\n",
    "    #a = 10\n",
    "    def __init__(self):\n",
    "        a = 999\n",
    "   \n",
    "        \n",
    "        \n",
    "#t = Test()\n",
    "\n",
    "print(t.a)\n",
    "print(t.a)\n",
    "print(Test.a)"
   ]
  },
  {
   "cell_type": "code",
   "execution_count": 153,
   "metadata": {},
   "outputs": [
    {
     "name": "stdout",
     "output_type": "stream",
     "text": [
      "[<class '__main__.C'>, <class '__main__.P'>, <class 'object'>]\n",
      "[<class '__main__.P'>, <class 'object'>]\n"
     ]
    }
   ],
   "source": [
    " class P:\n",
    "        def m1(self):\n",
    "            pass\n",
    "class C(P):\n",
    "    pass\n",
    "p = P()\n",
    "p.m1()\n",
    "print(C.mro())\n",
    "print(P.mro())"
   ]
  },
  {
   "cell_type": "code",
   "execution_count": 168,
   "metadata": {},
   "outputs": [
    {
     "name": "stdout",
     "output_type": "stream",
     "text": [
      "hh\n",
      "ff\n",
      "Engine Class Is there\n",
      "10\n",
      "30\n"
     ]
    }
   ],
   "source": [
    "class E:\n",
    "    a = 10\n",
    "    def __init__(self):\n",
    "        self.b = 20\n",
    "        print(\"hh\")\n",
    "    def m1(self):\n",
    "        print(\"Engine Class Is there\")\n",
    "        \n",
    "class C(E):\n",
    "    def __init__(self):\n",
    "        super().__init__()\n",
    "        self.e = 30\n",
    "        print(\"ff\")\n",
    "\n",
    "    def m2(self):\n",
    "        print(self.a)\n",
    "        #print(self.b)\n",
    "        \n",
    "        \n",
    "c = C()\n",
    "c.m1()\n",
    "print(c.a)\n",
    "print(c.e)"
   ]
  },
  {
   "cell_type": "code",
   "execution_count": 229,
   "metadata": {},
   "outputs": [
    {
     "name": "stdout",
     "output_type": "stream",
     "text": [
      "marks 99\n",
      "rollno 101\n",
      "name ram\n",
      "age 29\n",
      "Salary 9900\n",
      "sub math\n"
     ]
    }
   ],
   "source": [
    "class Person:\n",
    "    def __init__(self,name,age):\n",
    "        self.name = name\n",
    "        self.age = age\n",
    "    def m1(self):\n",
    "        print(\"name\",self.name)\n",
    "        print(\"age\",self.age)\n",
    "class Stu(Person):\n",
    "    def __init__(self,name,age,marks,rollno):\n",
    "        super().__init__(name,age)\n",
    "        self.marks = marks\n",
    "        self.rollno = rollno\n",
    "    def m1(self):\n",
    "        super().m1()\n",
    "        print(\"marks\",self.marks)\n",
    "        print(\"rollno\",self.rollno)\n",
    "        \n",
    "class Tea(Person):\n",
    "    def __init__(self,name,age,salary,sub):\n",
    "        super().__init__(name,age)\n",
    "        self.salary = salary\n",
    "        self.sub = sub\n",
    "    def m1(self):\n",
    "        super().m1()\n",
    "        print(\"Salary\",self.salary)\n",
    "        print(\"sub\",self.sub)\n",
    "\n",
    "class Tt(Tea):\n",
    "    pass\n",
    "    \n",
    "        \n",
    "        \n",
    "        \n",
    "s = Stu(\"rahu\",22,99,101)\n",
    "t = Tea(\"ram\",29,9900,\"math\")\n",
    "t1 = Tt(\"x\",2,3,\"m\")\n",
    "s.m1()\n",
    "t.m1()\n",
    "#super(Tea,self).m1()"
   ]
  },
  {
   "cell_type": "code",
   "execution_count": 219,
   "metadata": {},
   "outputs": [
    {
     "name": "stdout",
     "output_type": "stream",
     "text": [
      "[6, 5, 6, 5, 5, 5, 6, 5, 5, 6]\n",
      "6\n"
     ]
    }
   ],
   "source": [
    "from random import *\n",
    "l=[]\n",
    "for i in range(10):\n",
    "    x=randint(5,6)\n",
    "    l.append(x)\n",
    "print(l)\n"
   ]
  },
  {
   "cell_type": "code",
   "execution_count": 210,
   "metadata": {},
   "outputs": [
    {
     "name": "stdout",
     "output_type": "stream",
     "text": [
      "Hello \n",
      "Hello Edureka\n"
     ]
    }
   ],
   "source": [
    "class Person:\n",
    "    def Hello(self, name=None):\n",
    "        if name is not None:\n",
    "            print('Hello ' + name)\n",
    "        else:\n",
    "            print('Hello ')\n",
    "\n",
    "obj = Person()\n",
    "\n",
    "obj.Hello()\n",
    "\n",
    "obj.Hello('Edureka')"
   ]
  },
  {
   "cell_type": "code",
   "execution_count": 211,
   "metadata": {},
   "outputs": [
    {
     "name": "stdout",
     "output_type": "stream",
     "text": [
      "Area Value: 0\n",
      "Area Value: 16\n",
      "Area Value: 15\n"
     ]
    }
   ],
   "source": [
    "class Compute:\n",
    "    def area(self, x = None, y = None):\n",
    "        if x != None and y != None:\n",
    "            return x * y\n",
    "        elif x != None:\n",
    "            return x * x\n",
    "        else:\n",
    "            return 0\n",
    "# object\n",
    "obj = Compute()\n",
    "# zero argument\n",
    "print(\"Area Value:\", obj.area())\n",
    "# one argument\n",
    "print(\"Area Value:\", obj.area(4))\n",
    "# two argument\n",
    "print(\"Area Value:\", obj.area(3, 5))"
   ]
  },
  {
   "cell_type": "code",
   "execution_count": 213,
   "metadata": {},
   "outputs": [
    {
     "name": "stdout",
     "output_type": "stream",
     "text": [
      "0.0898964611094345\n"
     ]
    }
   ],
   "source": [
    "from random import *\n",
    "n = random()\n",
    "print(n)"
   ]
  },
  {
   "cell_type": "code",
   "execution_count": 224,
   "metadata": {},
   "outputs": [
    {
     "name": "stdout",
     "output_type": "stream",
     "text": [
      "(20, 14, 9, 13, 22, 0, 3, 8, 15, 14)\n"
     ]
    }
   ],
   "source": [
    "from random import *\n",
    "l = []\n",
    "for i in range(10):\n",
    "    n = randint(0,22)\n",
    "    l.append(n)\n",
    "print(tuple(l))"
   ]
  },
  {
   "cell_type": "code",
   "execution_count": 225,
   "metadata": {},
   "outputs": [
    {
     "name": "stdout",
     "output_type": "stream",
     "text": [
      "[28, 18, 29, 12, 21]\n"
     ]
    }
   ],
   "source": [
    "import random\n",
    "#Generate 5 random numbers between 10 and 30\n",
    "randomlist = random.sample(range(10, 30), 5)\n",
    "print(randomlist)"
   ]
  },
  {
   "cell_type": "code",
   "execution_count": 227,
   "metadata": {},
   "outputs": [
    {
     "name": "stdout",
     "output_type": "stream",
     "text": [
      "Circle\n",
      "I am a two-dimensional shape.\n",
      "Squares have each angle equal to 90 degrees.\n",
      "153.93804002589985\n"
     ]
    }
   ],
   "source": [
    "from math import pi\n",
    "class Shape:\n",
    "    def __init__(self, name):\n",
    "        self.name = name\n",
    "    def area(self):\n",
    "        pass\n",
    "    def fact(self):\n",
    "        return \"I am a two-dimensional shape.\"\n",
    "    def __str__(self):\n",
    "        return self.name\n",
    "class Square(Shape):\n",
    "    def __init__(self, length):\n",
    "        super().__init__(\"Square\")\n",
    "        self.length = length\n",
    "    def area(self):\n",
    "        return self.length**2\n",
    "    def fact(self):\n",
    "        return \"Squares have each angle equal to 90 degrees.\"\n",
    "class Circle(Shape):\n",
    "    def __init__(self, radius):\n",
    "        super().__init__(\"Circle\")\n",
    "        self.radius = radius\n",
    "    def area(self):\n",
    "        return pi*self.radius**2\n",
    "a = Square(4)\n",
    "b = Circle(7)\n",
    "print(b)\n",
    "print(b.fact())\n",
    "print(a.fact())\n",
    "print(b.area())"
   ]
  },
  {
   "cell_type": "code",
   "execution_count": 236,
   "metadata": {
    "scrolled": true
   },
   "outputs": [
    {
     "name": "stdout",
     "output_type": "stream",
     "text": [
      "Vegetable\n",
      "Red1\n",
      "Fruit\n",
      "Red\n"
     ]
    }
   ],
   "source": [
    "class Tomato(): \n",
    "     def type(self): \n",
    "        print(\"Vegetable\") \n",
    "        \n",
    "     def color(self):\n",
    "        print(\"Red1\") \n",
    "class Apple(): \n",
    "     def type(self): \n",
    "        print(\"Fruit\") \n",
    "     def color(self): \n",
    "        print(\"Red\") \n",
    "      \n",
    "def func(obj): \n",
    "       obj.type() \n",
    "       obj.color()\n",
    "        \n",
    "obj_tomato = Tomato() \n",
    "obj_apple = Apple() \n",
    "obj_tomato.type()\n",
    "obj_tomato.color()\n",
    "obj_apple.type()\n",
    "obj_apple.color()\n",
    "#func(obj_tomato) \n",
    "#func(obj_apple)"
   ]
  },
  {
   "cell_type": "code",
   "execution_count": 240,
   "metadata": {},
   "outputs": [
    {
     "name": "stdout",
     "output_type": "stream",
     "text": [
      "updating software\n",
      "driving\n"
     ]
    },
    {
     "ename": "AttributeError",
     "evalue": "'Car' object has no attribute '__updateSoftware'",
     "output_type": "error",
     "traceback": [
      "\u001b[1;31m---------------------------------------------------------------------------\u001b[0m",
      "\u001b[1;31mAttributeError\u001b[0m                            Traceback (most recent call last)",
      "\u001b[1;32m<ipython-input-240-be6a1899c8c7>\u001b[0m in \u001b[0;36m<module>\u001b[1;34m\u001b[0m\n\u001b[0;32m     12\u001b[0m \u001b[0mredcar\u001b[0m \u001b[1;33m=\u001b[0m \u001b[0mCar\u001b[0m\u001b[1;33m(\u001b[0m\u001b[1;33m)\u001b[0m\u001b[1;33m\u001b[0m\u001b[1;33m\u001b[0m\u001b[0m\n\u001b[0;32m     13\u001b[0m \u001b[0mredcar\u001b[0m\u001b[1;33m.\u001b[0m\u001b[0mdrive\u001b[0m\u001b[1;33m(\u001b[0m\u001b[1;33m)\u001b[0m\u001b[1;33m\u001b[0m\u001b[1;33m\u001b[0m\u001b[0m\n\u001b[1;32m---> 14\u001b[1;33m \u001b[0mredcar\u001b[0m\u001b[1;33m.\u001b[0m\u001b[0m__updateSoftware\u001b[0m\u001b[1;33m(\u001b[0m\u001b[1;33m)\u001b[0m\u001b[1;33m\u001b[0m\u001b[1;33m\u001b[0m\u001b[0m\n\u001b[0m",
      "\u001b[1;31mAttributeError\u001b[0m: 'Car' object has no attribute '__updateSoftware'"
     ]
    }
   ],
   "source": [
    "class Car:\n",
    "\n",
    "    def __init__(self):\n",
    "        self.__updateSoftware()\n",
    "\n",
    "    def drive(self):\n",
    "        print('driving')\n",
    "\n",
    "    def __updateSoftware(self):\n",
    "        print('updating software')\n",
    "\n",
    "redcar = Car()\n",
    "redcar.drive()\n",
    " "
   ]
  },
  {
   "cell_type": "code",
   "execution_count": 241,
   "metadata": {},
   "outputs": [
    {
     "data": {
      "text/plain": [
       "['BPF',\n",
       " 'LOG4',\n",
       " 'NV_MAGICCONST',\n",
       " 'RECIP_BPF',\n",
       " 'Random',\n",
       " 'SG_MAGICCONST',\n",
       " 'SystemRandom',\n",
       " 'TWOPI',\n",
       " '_BuiltinMethodType',\n",
       " '_MethodType',\n",
       " '_Sequence',\n",
       " '_Set',\n",
       " '__all__',\n",
       " '__builtins__',\n",
       " '__cached__',\n",
       " '__doc__',\n",
       " '__file__',\n",
       " '__loader__',\n",
       " '__name__',\n",
       " '__package__',\n",
       " '__spec__',\n",
       " '_acos',\n",
       " '_bisect',\n",
       " '_ceil',\n",
       " '_cos',\n",
       " '_e',\n",
       " '_exp',\n",
       " '_inst',\n",
       " '_itertools',\n",
       " '_log',\n",
       " '_os',\n",
       " '_pi',\n",
       " '_random',\n",
       " '_sha512',\n",
       " '_sin',\n",
       " '_sqrt',\n",
       " '_test',\n",
       " '_test_generator',\n",
       " '_urandom',\n",
       " '_warn',\n",
       " 'betavariate',\n",
       " 'choice',\n",
       " 'choices',\n",
       " 'expovariate',\n",
       " 'gammavariate',\n",
       " 'gauss',\n",
       " 'getrandbits',\n",
       " 'getstate',\n",
       " 'lognormvariate',\n",
       " 'normalvariate',\n",
       " 'paretovariate',\n",
       " 'randint',\n",
       " 'random',\n",
       " 'randrange',\n",
       " 'sample',\n",
       " 'seed',\n",
       " 'setstate',\n",
       " 'shuffle',\n",
       " 'triangular',\n",
       " 'uniform',\n",
       " 'vonmisesvariate',\n",
       " 'weibullvariate']"
      ]
     },
     "execution_count": 241,
     "metadata": {},
     "output_type": "execute_result"
    }
   ],
   "source": [
    "dir(random)"
   ]
  },
  {
   "cell_type": "code",
   "execution_count": 249,
   "metadata": {},
   "outputs": [
    {
     "name": "stdout",
     "output_type": "stream",
     "text": [
      "0.561744097427723\n",
      "0.6812060906660279\n",
      "0.8503969899172359\n",
      "0.5113954301292787\n",
      "0.9371078137351918\n",
      "0.5860923829841155\n",
      "0.7641834862155069\n",
      "0.33430113797668537\n",
      "0.8794716158784228\n",
      "0.02972920620297881\n",
      "[0.561744097427723, 0.6812060906660279, 0.8503969899172359, 0.5113954301292787, 0.9371078137351918, 0.5860923829841155, 0.7641834862155069, 0.33430113797668537, 0.8794716158784228, 0.02972920620297881]\n"
     ]
    }
   ],
   "source": [
    "from random import *\n",
    "l = []\n",
    "for i in range(10):\n",
    "   \n",
    "    x = random()\n",
    "    l.append(x)\n",
    "    print(x)\n",
    "print(l)\n",
    "    "
   ]
  },
  {
   "cell_type": "code",
   "execution_count": 250,
   "metadata": {},
   "outputs": [
    {
     "name": "stdout",
     "output_type": "stream",
     "text": [
      "13\n",
      "51\n",
      "93\n",
      "36\n",
      "25\n",
      "73\n",
      "43\n",
      "68\n",
      "91\n",
      "2\n"
     ]
    }
   ],
   "source": [
    "from random import *\n",
    "for i in range(10):\n",
    "    print(randint(1,100))"
   ]
  },
  {
   "cell_type": "code",
   "execution_count": 251,
   "metadata": {},
   "outputs": [
    {
     "name": "stdout",
     "output_type": "stream",
     "text": [
      "14.378578545806842\n",
      "70.19215638719517\n",
      "35.52879731776952\n",
      "8.726866246450609\n",
      "33.65087070667851\n",
      "16.75465480907469\n",
      "14.631689890492499\n",
      "39.78970668156614\n",
      "78.18050541438845\n",
      "61.15900643000334\n"
     ]
    }
   ],
   "source": [
    "from random import *\n",
    "for i in range(10):\n",
    "    print(uniform(1,100))"
   ]
  },
  {
   "cell_type": "code",
   "execution_count": 271,
   "metadata": {},
   "outputs": [
    {
     "data": {
      "text/plain": [
       "3"
      ]
     },
     "execution_count": 271,
     "metadata": {},
     "output_type": "execute_result"
    }
   ],
   "source": [
    "randrange(1,11,2)"
   ]
  },
  {
   "cell_type": "code",
   "execution_count": 272,
   "metadata": {},
   "outputs": [
    {
     "name": "stdout",
     "output_type": "stream",
     "text": [
      "a\n",
      "a\n",
      "c\n",
      "d\n",
      "d\n",
      "a\n",
      "d\n",
      "a\n",
      "a\n",
      "d\n"
     ]
    }
   ],
   "source": [
    "from random import *\n",
    "l = ['a','b','c','d']\n",
    "for i in range(10):\n",
    "    print(choice(l))"
   ]
  },
  {
   "cell_type": "code",
   "execution_count": 278,
   "metadata": {},
   "outputs": [
    {
     "name": "stdout",
     "output_type": "stream",
     "text": [
      "163837\n",
      "543564\n",
      "361007\n",
      "844907\n",
      "554368\n",
      "767788\n",
      "017573\n",
      "836864\n",
      "743026\n",
      "445295\n"
     ]
    }
   ],
   "source": [
    "from random import *\n",
    "for i in range(10):\n",
    "    print((randint(0,9)),(randint(0,9)),(randint(0,9)),(randint(0,9)),(randint(0,9)),(randint(0,9)),sep=\"\")"
   ]
  },
  {
   "cell_type": "code",
   "execution_count": 281,
   "metadata": {},
   "outputs": [
    {
     "data": {
      "text/plain": [
       "'A'"
      ]
     },
     "execution_count": 281,
     "metadata": {},
     "output_type": "execute_result"
    }
   ],
   "source": [
    "chr(65)"
   ]
  },
  {
   "cell_type": "code",
   "execution_count": 296,
   "metadata": {},
   "outputs": [
    {
     "name": "stdout",
     "output_type": "stream",
     "text": [
      "]0P0D116\n",
      "l5c4Z108\n",
      "j7U4b115\n",
      "c9D9y92\n",
      "B0g4v105\n",
      "]0b4K112\n",
      "S5U1b67\n",
      "n5k2n74\n",
      "e7j6N75\n",
      "D7P2r88\n"
     ]
    }
   ],
   "source": [
    "for i in range(10):\n",
    "    print(chr(randint(65,122)),randint(0,9),chr(randint(65,122)),randint(0,9),chr(randint(65,122)),randint(65,122),sep=\"\")"
   ]
  },
  {
   "cell_type": "code",
   "execution_count": 289,
   "metadata": {},
   "outputs": [
    {
     "data": {
      "text/plain": [
       "'x'"
      ]
     },
     "execution_count": 289,
     "metadata": {},
     "output_type": "execute_result"
    }
   ],
   "source": [
    "chr(randint(65,122))"
   ]
  },
  {
   "cell_type": "code",
   "execution_count": 300,
   "metadata": {},
   "outputs": [],
   "source": [
    ">>> class A:pass\n",
    "#>>> A.__name__\n",
    "#'A'\n",
    "#>>> A().__class__.__name__       #using an instance of that class\n",
    "#'A'"
   ]
  },
  {
   "cell_type": "code",
   "execution_count": 303,
   "metadata": {},
   "outputs": [
    {
     "data": {
      "text/plain": [
       "14"
      ]
     },
     "execution_count": 303,
     "metadata": {},
     "output_type": "execute_result"
    }
   ],
   "source": [
    "def func(n=[]):\n",
    "        pass\n",
    "func([1,2,3])\n",
    "func()\n",
    "n"
   ]
  },
  {
   "cell_type": "code",
   "execution_count": null,
   "metadata": {},
   "outputs": [],
   "source": []
  }
 ],
 "metadata": {
  "kernelspec": {
   "display_name": "Python 3",
   "language": "python",
   "name": "python3"
  },
  "language_info": {
   "codemirror_mode": {
    "name": "ipython",
    "version": 3
   },
   "file_extension": ".py",
   "mimetype": "text/x-python",
   "name": "python",
   "nbconvert_exporter": "python",
   "pygments_lexer": "ipython3",
   "version": "3.7.4"
  }
 },
 "nbformat": 4,
 "nbformat_minor": 2
}
